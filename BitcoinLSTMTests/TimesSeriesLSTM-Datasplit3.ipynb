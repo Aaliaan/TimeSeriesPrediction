{
 "cells": [
  {
   "cell_type": "code",
   "execution_count": 1,
   "metadata": {},
   "outputs": [
    {
     "name": "stderr",
     "output_type": "stream",
     "text": [
      "/home/aaliaan/anaconda3/lib/python3.6/importlib/_bootstrap.py:219: RuntimeWarning: numpy.dtype size changed, may indicate binary incompatibility. Expected 96, got 88\n  return f(*args, **kwds)\n/home/aaliaan/anaconda3/lib/python3.6/importlib/_bootstrap.py:219: RuntimeWarning: numpy.dtype size changed, may indicate binary incompatibility. Expected 96, got 88\n  return f(*args, **kwds)\n/home/aaliaan/anaconda3/lib/python3.6/importlib/_bootstrap.py:219: RuntimeWarning: numpy.dtype size changed, may indicate binary incompatibility. Expected 96, got 88\n  return f(*args, **kwds)\n/home/aaliaan/anaconda3/lib/python3.6/importlib/_bootstrap.py:219: RuntimeWarning: numpy.dtype size changed, may indicate binary incompatibility. Expected 96, got 88\n  return f(*args, **kwds)\n/home/aaliaan/anaconda3/lib/python3.6/importlib/_bootstrap.py:219: RuntimeWarning: numpy.dtype size changed, may indicate binary incompatibility. Expected 96, got 88\n  return f(*args, **kwds)\n"
     ]
    },
    {
     "name": "stderr",
     "output_type": "stream",
     "text": [
      "/home/aaliaan/anaconda3/lib/python3.6/site-packages/h5py/__init__.py:36: FutureWarning: Conversion of the second argument of issubdtype from `float` to `np.floating` is deprecated. In future, it will be treated as `np.float64 == np.dtype(float).type`.\n  from ._conv import register_converters as _register_converters\nUsing TensorFlow backend.\n"
     ]
    },
    {
     "name": "stderr",
     "output_type": "stream",
     "text": [
      "/home/aaliaan/anaconda3/lib/python3.6/importlib/_bootstrap.py:219: RuntimeWarning: numpy.dtype size changed, may indicate binary incompatibility. Expected 96, got 88\n  return f(*args, **kwds)\n"
     ]
    },
    {
     "name": "stderr",
     "output_type": "stream",
     "text": [
      "/home/aaliaan/anaconda3/lib/python3.6/importlib/_bootstrap.py:219: RuntimeWarning:\n\nnumpy.dtype size changed, may indicate binary incompatibility. Expected 96, got 88\n\n"
     ]
    },
    {
     "data": {
      "text/html": [
       "<script>requirejs.config({paths: { 'plotly': ['https://cdn.plot.ly/plotly-latest.min']},});if(!window.Plotly) {{require(['plotly'],function(plotly) {window.Plotly=plotly;});}}</script>"
      ],
      "text/plain": [
       "<script>requirejs.config({paths: { 'plotly': ['https://cdn.plot.ly/plotly-latest.min']},});if(!window.Plotly) {{require(['plotly'],function(plotly) {window.Plotly=plotly;});}}</script>"
      ]
     },
     "execution_count": 0,
     "metadata": {},
     "output_type": "execute_result"
    },
    {
     "name": "stderr",
     "output_type": "stream",
     "text": [
      "/home/aaliaan/anaconda3/lib/python3.6/site-packages/numpy/lib/arraysetops.py:518: FutureWarning:\n\nelementwise comparison failed; returning scalar instead, but in the future will perform elementwise comparison\n\n"
     ]
    }
   ],
   "source": [
    "from math import sqrt\n",
    "from numpy import concatenate\n",
    "from matplotlib import pyplot\n",
    "import pandas as pd\n",
    "from datetime import datetime\n",
    "from sklearn.preprocessing import MinMaxScaler\n",
    "from sklearn.preprocessing import LabelEncoder\n",
    "from sklearn.metrics import mean_squared_error\n",
    "from keras.models import Sequential\n",
    "from keras.layers import Dense\n",
    "from keras.layers import LSTM\n",
    "import plotly.offline as py\n",
    "import plotly.graph_objs as go\n",
    "import numpy as np\n",
    "import seaborn as sns\n",
    "py.init_notebook_mode(connected=True)\n",
    "%matplotlib inline\n",
    "data_1 = pd.read_csv('2014_BTCUSD_1m.csv', index_col='Timestamp')\n",
    "data_var = data_1.dropna(how='any')\n",
    "data_var2 = data_var.tail(800000)\n",
    "data = data_var2.head(550000)"
   ]
  },
  {
   "cell_type": "code",
   "execution_count": 2,
   "metadata": {},
   "outputs": [
    {
     "data": {
      "text/html": [
       "<div>\n",
       "<style scoped>\n",
       "    .dataframe tbody tr th:only-of-type {\n",
       "        vertical-align: middle;\n",
       "    }\n",
       "\n",
       "    .dataframe tbody tr th {\n",
       "        vertical-align: top;\n",
       "    }\n",
       "\n",
       "    .dataframe thead th {\n",
       "        text-align: right;\n",
       "    }\n",
       "</style>\n",
       "<table border=\"1\" class=\"dataframe\">\n",
       "  <thead>\n",
       "    <tr style=\"text-align: right;\">\n",
       "      <th></th>\n",
       "      <th>Open</th>\n",
       "      <th>High</th>\n",
       "      <th>Low</th>\n",
       "      <th>Close</th>\n",
       "      <th>Volume_(BTC)</th>\n",
       "      <th>Volume_(Currency)</th>\n",
       "      <th>Weighted_Price</th>\n",
       "    </tr>\n",
       "    <tr>\n",
       "      <th>Timestamp</th>\n",
       "      <th></th>\n",
       "      <th></th>\n",
       "      <th></th>\n",
       "      <th></th>\n",
       "      <th></th>\n",
       "      <th></th>\n",
       "      <th></th>\n",
       "    </tr>\n",
       "  </thead>\n",
       "  <tbody>\n",
       "    <tr>\n",
       "      <th>1482057660</th>\n",
       "      <td>791.71</td>\n",
       "      <td>791.71</td>\n",
       "      <td>791.71</td>\n",
       "      <td>791.71</td>\n",
       "      <td>1.12605</td>\n",
       "      <td>891.505046</td>\n",
       "      <td>791.710000</td>\n",
       "    </tr>\n",
       "    <tr>\n",
       "      <th>1482057720</th>\n",
       "      <td>791.70</td>\n",
       "      <td>791.70</td>\n",
       "      <td>791.70</td>\n",
       "      <td>791.70</td>\n",
       "      <td>0.18879</td>\n",
       "      <td>149.465043</td>\n",
       "      <td>791.700000</td>\n",
       "    </tr>\n",
       "    <tr>\n",
       "      <th>1482057780</th>\n",
       "      <td>791.68</td>\n",
       "      <td>791.68</td>\n",
       "      <td>791.68</td>\n",
       "      <td>791.68</td>\n",
       "      <td>0.06169</td>\n",
       "      <td>48.838739</td>\n",
       "      <td>791.680000</td>\n",
       "    </tr>\n",
       "    <tr>\n",
       "      <th>1482057840</th>\n",
       "      <td>791.68</td>\n",
       "      <td>791.68</td>\n",
       "      <td>791.68</td>\n",
       "      <td>791.68</td>\n",
       "      <td>0.39050</td>\n",
       "      <td>309.151040</td>\n",
       "      <td>791.680000</td>\n",
       "    </tr>\n",
       "    <tr>\n",
       "      <th>1482057900</th>\n",
       "      <td>791.50</td>\n",
       "      <td>791.50</td>\n",
       "      <td>791.25</td>\n",
       "      <td>791.44</td>\n",
       "      <td>5.81299</td>\n",
       "      <td>4600.250973</td>\n",
       "      <td>791.374314</td>\n",
       "    </tr>\n",
       "  </tbody>\n",
       "</table>\n",
       "</div>"
      ],
      "text/plain": [
       "<div>\n",
       "<style scoped>\n",
       "    .dataframe tbody tr th:only-of-type {\n",
       "        vertical-align: middle;\n",
       "    }\n",
       "\n",
       "    .dataframe tbody tr th {\n",
       "        vertical-align: top;\n",
       "    }\n",
       "\n",
       "    .dataframe thead th {\n",
       "        text-align: right;\n",
       "    }\n",
       "</style>\n",
       "<table border=\"1\" class=\"dataframe\">\n",
       "  <thead>\n",
       "    <tr style=\"text-align: right;\">\n",
       "      <th></th>\n",
       "      <th>Open</th>\n",
       "      <th>High</th>\n",
       "      <th>Low</th>\n",
       "      <th>Close</th>\n",
       "      <th>Volume_(BTC)</th>\n",
       "      <th>Volume_(Currency)</th>\n",
       "      <th>Weighted_Price</th>\n",
       "    </tr>\n",
       "    <tr>\n",
       "      <th>Timestamp</th>\n",
       "      <th></th>\n",
       "      <th></th>\n",
       "      <th></th>\n",
       "      <th></th>\n",
       "      <th></th>\n",
       "      <th></th>\n",
       "      <th></th>\n",
       "    </tr>\n",
       "  </thead>\n",
       "  <tbody>\n",
       "    <tr>\n",
       "      <th>1482057660</th>\n",
       "      <td>791.71</td>\n",
       "      <td>791.71</td>\n",
       "      <td>791.71</td>\n",
       "      <td>791.71</td>\n",
       "      <td>1.12605</td>\n",
       "      <td>891.505046</td>\n",
       "      <td>791.710000</td>\n",
       "    </tr>\n",
       "    <tr>\n",
       "      <th>1482057720</th>\n",
       "      <td>791.70</td>\n",
       "      <td>791.70</td>\n",
       "      <td>791.70</td>\n",
       "      <td>791.70</td>\n",
       "      <td>0.18879</td>\n",
       "      <td>149.465043</td>\n",
       "      <td>791.700000</td>\n",
       "    </tr>\n",
       "    <tr>\n",
       "      <th>1482057780</th>\n",
       "      <td>791.68</td>\n",
       "      <td>791.68</td>\n",
       "      <td>791.68</td>\n",
       "      <td>791.68</td>\n",
       "      <td>0.06169</td>\n",
       "      <td>48.838739</td>\n",
       "      <td>791.680000</td>\n",
       "    </tr>\n",
       "    <tr>\n",
       "      <th>1482057840</th>\n",
       "      <td>791.68</td>\n",
       "      <td>791.68</td>\n",
       "      <td>791.68</td>\n",
       "      <td>791.68</td>\n",
       "      <td>0.39050</td>\n",
       "      <td>309.151040</td>\n",
       "      <td>791.680000</td>\n",
       "    </tr>\n",
       "    <tr>\n",
       "      <th>1482057900</th>\n",
       "      <td>791.50</td>\n",
       "      <td>791.50</td>\n",
       "      <td>791.25</td>\n",
       "      <td>791.44</td>\n",
       "      <td>5.81299</td>\n",
       "      <td>4600.250973</td>\n",
       "      <td>791.374314</td>\n",
       "    </tr>\n",
       "  </tbody>\n",
       "</table>\n",
       "</div>"
      ]
     },
     "execution_count": 2,
     "metadata": {},
     "output_type": "execute_result"
    }
   ],
   "source": [
    "data.head()"
   ]
  },
  {
   "cell_type": "code",
   "execution_count": 3,
   "metadata": {},
   "outputs": [
    {
     "data": {
      "text/html": [
       "<div>\n",
       "<style scoped>\n",
       "    .dataframe tbody tr th:only-of-type {\n",
       "        vertical-align: middle;\n",
       "    }\n",
       "\n",
       "    .dataframe tbody tr th {\n",
       "        vertical-align: top;\n",
       "    }\n",
       "\n",
       "    .dataframe thead th {\n",
       "        text-align: right;\n",
       "    }\n",
       "</style>\n",
       "<table border=\"1\" class=\"dataframe\">\n",
       "  <thead>\n",
       "    <tr style=\"text-align: right;\">\n",
       "      <th></th>\n",
       "      <th>Open</th>\n",
       "      <th>High</th>\n",
       "      <th>Low</th>\n",
       "      <th>Close</th>\n",
       "      <th>Volume_(BTC)</th>\n",
       "      <th>Volume_(Currency)</th>\n",
       "      <th>Weighted_Price</th>\n",
       "    </tr>\n",
       "    <tr>\n",
       "      <th>Timestamp</th>\n",
       "      <th></th>\n",
       "      <th></th>\n",
       "      <th></th>\n",
       "      <th></th>\n",
       "      <th></th>\n",
       "      <th></th>\n",
       "      <th></th>\n",
       "    </tr>\n",
       "  </thead>\n",
       "  <tbody>\n",
       "    <tr>\n",
       "      <th>1515057360</th>\n",
       "      <td>14530.60</td>\n",
       "      <td>14530.60</td>\n",
       "      <td>14411.84</td>\n",
       "      <td>14460.02</td>\n",
       "      <td>37.775405</td>\n",
       "      <td>547300.393790</td>\n",
       "      <td>14488.273176</td>\n",
       "    </tr>\n",
       "    <tr>\n",
       "      <th>1515057420</th>\n",
       "      <td>14460.01</td>\n",
       "      <td>14460.02</td>\n",
       "      <td>14460.01</td>\n",
       "      <td>14460.02</td>\n",
       "      <td>4.286699</td>\n",
       "      <td>61985.732671</td>\n",
       "      <td>14460.014519</td>\n",
       "    </tr>\n",
       "    <tr>\n",
       "      <th>1515057480</th>\n",
       "      <td>14460.02</td>\n",
       "      <td>14490.00</td>\n",
       "      <td>14460.02</td>\n",
       "      <td>14464.08</td>\n",
       "      <td>27.067244</td>\n",
       "      <td>391802.107500</td>\n",
       "      <td>14475.138689</td>\n",
       "    </tr>\n",
       "    <tr>\n",
       "      <th>1515057540</th>\n",
       "      <td>14464.07</td>\n",
       "      <td>14503.03</td>\n",
       "      <td>14423.71</td>\n",
       "      <td>14455.31</td>\n",
       "      <td>13.005357</td>\n",
       "      <td>188053.514650</td>\n",
       "      <td>14459.696499</td>\n",
       "    </tr>\n",
       "    <tr>\n",
       "      <th>1515057600</th>\n",
       "      <td>14455.31</td>\n",
       "      <td>14480.31</td>\n",
       "      <td>14455.30</td>\n",
       "      <td>14480.31</td>\n",
       "      <td>5.541763</td>\n",
       "      <td>80146.801896</td>\n",
       "      <td>14462.328240</td>\n",
       "    </tr>\n",
       "  </tbody>\n",
       "</table>\n",
       "</div>"
      ],
      "text/plain": [
       "<div>\n",
       "<style scoped>\n",
       "    .dataframe tbody tr th:only-of-type {\n",
       "        vertical-align: middle;\n",
       "    }\n",
       "\n",
       "    .dataframe tbody tr th {\n",
       "        vertical-align: top;\n",
       "    }\n",
       "\n",
       "    .dataframe thead th {\n",
       "        text-align: right;\n",
       "    }\n",
       "</style>\n",
       "<table border=\"1\" class=\"dataframe\">\n",
       "  <thead>\n",
       "    <tr style=\"text-align: right;\">\n",
       "      <th></th>\n",
       "      <th>Open</th>\n",
       "      <th>High</th>\n",
       "      <th>Low</th>\n",
       "      <th>Close</th>\n",
       "      <th>Volume_(BTC)</th>\n",
       "      <th>Volume_(Currency)</th>\n",
       "      <th>Weighted_Price</th>\n",
       "    </tr>\n",
       "    <tr>\n",
       "      <th>Timestamp</th>\n",
       "      <th></th>\n",
       "      <th></th>\n",
       "      <th></th>\n",
       "      <th></th>\n",
       "      <th></th>\n",
       "      <th></th>\n",
       "      <th></th>\n",
       "    </tr>\n",
       "  </thead>\n",
       "  <tbody>\n",
       "    <tr>\n",
       "      <th>1515057360</th>\n",
       "      <td>14530.60</td>\n",
       "      <td>14530.60</td>\n",
       "      <td>14411.84</td>\n",
       "      <td>14460.02</td>\n",
       "      <td>37.775405</td>\n",
       "      <td>547300.393790</td>\n",
       "      <td>14488.273176</td>\n",
       "    </tr>\n",
       "    <tr>\n",
       "      <th>1515057420</th>\n",
       "      <td>14460.01</td>\n",
       "      <td>14460.02</td>\n",
       "      <td>14460.01</td>\n",
       "      <td>14460.02</td>\n",
       "      <td>4.286699</td>\n",
       "      <td>61985.732671</td>\n",
       "      <td>14460.014519</td>\n",
       "    </tr>\n",
       "    <tr>\n",
       "      <th>1515057480</th>\n",
       "      <td>14460.02</td>\n",
       "      <td>14490.00</td>\n",
       "      <td>14460.02</td>\n",
       "      <td>14464.08</td>\n",
       "      <td>27.067244</td>\n",
       "      <td>391802.107500</td>\n",
       "      <td>14475.138689</td>\n",
       "    </tr>\n",
       "    <tr>\n",
       "      <th>1515057540</th>\n",
       "      <td>14464.07</td>\n",
       "      <td>14503.03</td>\n",
       "      <td>14423.71</td>\n",
       "      <td>14455.31</td>\n",
       "      <td>13.005357</td>\n",
       "      <td>188053.514650</td>\n",
       "      <td>14459.696499</td>\n",
       "    </tr>\n",
       "    <tr>\n",
       "      <th>1515057600</th>\n",
       "      <td>14455.31</td>\n",
       "      <td>14480.31</td>\n",
       "      <td>14455.30</td>\n",
       "      <td>14480.31</td>\n",
       "      <td>5.541763</td>\n",
       "      <td>80146.801896</td>\n",
       "      <td>14462.328240</td>\n",
       "    </tr>\n",
       "  </tbody>\n",
       "</table>\n",
       "</div>"
      ]
     },
     "execution_count": 3,
     "metadata": {},
     "output_type": "execute_result"
    }
   ],
   "source": [
    "data.tail()"
   ]
  },
  {
   "cell_type": "code",
   "execution_count": 4,
   "metadata": {},
   "outputs": [
    {
     "name": "stdout",
     "output_type": "stream",
     "text": [
      "<class 'pandas.core.frame.DataFrame'>\nInt64Index: 550000 entries, 1482057660 to 1515057600\nData columns (total 7 columns):\nOpen                 550000 non-null float64\nHigh                 550000 non-null float64\nLow                  550000 non-null float64\nClose                550000 non-null float64\nVolume_(BTC)         550000 non-null float64\nVolume_(Currency)    550000 non-null float64\nWeighted_Price       550000 non-null float64\ndtypes: float64(7)\nmemory usage: 33.6 MB\n"
     ]
    }
   ],
   "source": [
    "data.info()"
   ]
  },
  {
   "cell_type": "code",
   "execution_count": 5,
   "metadata": {},
   "outputs": [
    {
     "data": {
      "text/plain": [
       "'file:///home/aaliaan/temp-plot.html'"
      ]
     },
     "execution_count": 5,
     "metadata": {},
     "output_type": "execute_result"
    }
   ],
   "source": [
    "btc_trace = go.Scatter(x=data.index, y=data['Weighted_Price'], name='PRICE')\n",
    "py.plot([btc_trace])"
   ]
  },
  {
   "cell_type": "code",
   "execution_count": 6,
   "metadata": {},
   "outputs": [
    {
     "name": "stderr",
     "output_type": "stream",
     "text": [
      "/home/aaliaan/anaconda3/lib/python3.6/site-packages/ipykernel_launcher.py:1: SettingWithCopyWarning:\n\n\nA value is trying to be set on a copy of a slice from a DataFrame.\nTry using .loc[row_indexer,col_indexer] = value instead\n\nSee the caveats in the documentation: http://pandas.pydata.org/pandas-docs/stable/indexing.html#indexing-view-versus-copy\n\n/home/aaliaan/anaconda3/lib/python3.6/site-packages/pandas/core/indexing.py:543: SettingWithCopyWarning:\n\n\nA value is trying to be set on a copy of a slice from a DataFrame.\nTry using .loc[row_indexer,col_indexer] = value instead\n\nSee the caveats in the documentation: http://pandas.pydata.org/pandas-docs/stable/indexing.html#indexing-view-versus-copy\n\n"
     ]
    },
    {
     "data": {
      "text/plain": [
       "'file:///home/aaliaan/temp-plot.html'"
      ]
     },
     "execution_count": 6,
     "metadata": {},
     "output_type": "execute_result"
    }
   ],
   "source": [
    "data[data['Weighted_Price']<1]=None\n",
    "btc_trace = go.Scatter(x=data.index, y=data['Weighted_Price'], name='PRICE')\n",
    "py.plot([btc_trace])"
   ]
  },
  {
   "cell_type": "code",
   "execution_count": 9,
   "metadata": {},
   "outputs": [],
   "source": [
    "data.isnull().sum()\n",
    "data = data.dropna(how='any')"
   ]
  },
  {
   "cell_type": "code",
   "execution_count": 10,
   "metadata": {},
   "outputs": [
    {
     "name": "stdout",
     "output_type": "stream",
     "text": [
      "384999 165000\n"
     ]
    }
   ],
   "source": [
    "# minmaxscaler to normalaise the prices between 0 and 1\n",
    "values = data['Weighted_Price'].values.reshape(-1,1)\n",
    "values = values.astype('float64')\n",
    "scaler = MinMaxScaler(feature_range=(0, 1))\n",
    "scaled = scaler.fit_transform(values)\n",
    "\n",
    "#new\n",
    "\n",
    "#new\n",
    "# 70:30 split\n",
    "train_size = int(len(scaled) * 0.7)\n",
    "test_size = len(scaled) - train_size\n",
    "train, test = scaled[0:train_size,:], scaled[train_size:len(scaled),:]\n",
    "print(len(train), len(test))"
   ]
  },
  {
   "cell_type": "code",
   "execution_count": 12,
   "metadata": {},
   "outputs": [],
   "source": [
    "def create_dataset(dataset, look_back=1):\n",
    "    dataX, dataY = [], []\n",
    "    for i in range(len(dataset) - look_back):\n",
    "        a = dataset[i:(i + look_back), 0]\n",
    "        dataX.append(a)\n",
    "        dataY.append(dataset[i + look_back, 0])\n",
    "    print(len(dataY))\n",
    "    return np.array(dataX), np.array(dataY)"
   ]
  },
  {
   "cell_type": "code",
   "execution_count": 13,
   "metadata": {},
   "outputs": [
    {
     "name": "stdout",
     "output_type": "stream",
     "text": [
      "384998\n"
     ]
    },
    {
     "name": "stdout",
     "output_type": "stream",
     "text": [
      "164999\n[[0.00252934]\n [0.00252882]\n [0.00252777]\n ...\n [0.18098143]\n [0.18082179]\n [0.18077425]]\n"
     ]
    }
   ],
   "source": [
    "look_back = 1\n",
    "trainX, trainY = create_dataset(train, look_back)\n",
    "testX, testY = create_dataset(test, look_back)\n",
    "\n",
    "print(trainX)"
   ]
  },
  {
   "cell_type": "code",
   "execution_count": 27,
   "metadata": {},
   "outputs": [],
   "source": [
    "trainX = np.reshape(trainX, (trainX.shape[0], 1, trainX.shape[1]))\n",
    "testX = np.reshape(testX, (testX.shape[0], 1, testX.shape[1]))"
   ]
  },
  {
   "cell_type": "code",
   "execution_count": 28,
   "metadata": {},
   "outputs": [],
   "source": [
    "model = Sequential()\n",
    "model.add(LSTM(100, input_shape=(trainX.shape[1], trainX.shape[2])))\n",
    "model.add(Dense(1))\n",
    "model.compile(loss='mae', optimizer='adam')\n",
    "history = model.fit(trainX, trainY, epochs=300, batch_size=100, validation_data=(testX, testY), verbose=0, shuffle=False)"
   ]
  },
  {
   "cell_type": "code",
   "execution_count": 29,
   "metadata": {},
   "outputs": [
    {
     "data": {
      "image/png": "[encoded data removed]",
      "text/plain": [
       "<Figure size 432x288 with 1 Axes>"
      ]
     },
     "metadata": {},
     "output_type": "display_data"
    }
   ],
   "source": [
    "pyplot.plot(history.history['loss'], label='train')\n",
    "pyplot.plot(history.history['val_loss'], label='test')\n",
    "pyplot.legend()\n",
    "pyplot.show()"
   ]
  },
  {
   "cell_type": "code",
   "execution_count": 30,
   "metadata": {},
   "outputs": [
    {
     "data": {
      "image/png": "[encoded data removed]",
      "text/plain": [
       "<Figure size 432x288 with 1 Axes>"
      ]
     },
     "metadata": {},
     "output_type": "display_data"
    }
   ],
   "source": [
    "yhat = model.predict(testX)\n",
    "pyplot.plot(yhat, label='predict')\n",
    "pyplot.plot(testY, label='true')\n",
    "pyplot.legend()\n",
    "pyplot.show()"
   ]
  },
  {
   "cell_type": "code",
   "execution_count": 31,
   "metadata": {},
   "outputs": [],
   "source": [
    "yhat_inverse = scaler.inverse_transform(yhat.reshape(-1, 1))\n",
    "testY_inverse = scaler.inverse_transform(testY.reshape(-1, 1))"
   ]
  },
  {
   "cell_type": "code",
   "execution_count": 32,
   "metadata": {},
   "outputs": [
    {
     "name": "stdout",
     "output_type": "stream",
     "text": [
      "Test RMSE: 0.132\n"
     ]
    }
   ],
   "source": [
    "rmse = sqrt(mean_squared_error(testY, yhat))\n",
    "print('Test RMSE: %.3f'% rmse)"
   ]
  },
  {
   "cell_type": "code",
   "execution_count": 33,
   "metadata": {},
   "outputs": [
    {
     "data": {
      "image/png": "[encoded data removed]",
      "text/plain": [
       "<Figure size 432x288 with 1 Axes>"
      ]
     },
     "metadata": {},
     "output_type": "display_data"
    }
   ],
   "source": [
    "pyplot.plot(yhat_inverse, label='predict')\n",
    "pyplot.plot(testY_inverse, label='actual', alpha=0.7)\n",
    "pyplot.legend()\n",
    "pyplot.show()"
   ]
  },
  {
   "cell_type": "code",
   "execution_count": 34,
   "metadata": {},
   "outputs": [],
   "source": [
    "predictDates = data.tail(len(testX)).index"
   ]
  },
  {
   "cell_type": "code",
   "execution_count": 35,
   "metadata": {},
   "outputs": [],
   "source": [
    "testY_reshape = testY_inverse.reshape(len(testY_inverse))\n",
    "yhat_reshape = yhat_inverse.reshape(len(yhat_inverse))"
   ]
  },
  {
   "cell_type": "code",
   "execution_count": 36,
   "metadata": {},
   "outputs": [
    {
     "data": {
      "text/plain": [
       "'file:///home/aaliaan/temp-plot.html'"
      ]
     },
     "execution_count": 36,
     "metadata": {},
     "output_type": "execute_result"
    }
   ],
   "source": [
    "actual_chart = go.Scatter(x=predictDates, y=testY_reshape, name='Actual')\n",
    "predict_chart = go.Scatter(x=predictDates, y=yhat_reshape, name='Predicted')\n",
    "py.plot([predict_chart, actual_chart])"
   ]
  },
  {
   "cell_type": "code",
   "execution_count": 37,
   "metadata": {},
   "outputs": [
    {
     "name": "stdout",
     "output_type": "stream",
     "text": [
      "Price chart test RMSE: 2523.713\n"
     ]
    }
   ],
   "source": [
    "rmse = sqrt(mean_squared_error(testY_reshape, yhat_reshape))\n",
    "print('Price chart test RMSE: %.3f' % rmse)"
   ]
  },
  {
   "cell_type": "code",
   "execution_count": 38,
   "metadata": {},
   "outputs": [
    {
     "data": {
      "text/plain": [
       "<matplotlib.axes._subplots.AxesSubplot at 0x7f35eecfe400>"
      ]
     },
     "execution_count": 38,
     "metadata": {},
     "output_type": "execute_result"
    },
    {
     "data": {
      "image/png": "[encoded data removed]",
      "text/plain": [
       "<Figure size 432x288 with 2 Axes>"
      ]
     },
     "metadata": {},
     "output_type": "display_data"
    }
   ],
   "source": [
    "sns.heatmap(data.corr(), annot=True, cmap='RdYlGn', linewidths=0.1, vmin=0, edgecolor='White')"
   ]
  },
  {
   "cell_type": "code",
   "execution_count": 39,
   "metadata": {},
   "outputs": [],
   "source": [
    "def series_to_supervised(data, n_in=1, n_out=1, dropnan=True):\n",
    "    n_vars = 1 if type(data) is list else data.shape[1]\n",
    "    df = pd.DataFrame(data)\n",
    "    cols, names = list(), list()\n",
    "    # input sequence (t-n, ... t-1)\n",
    "    for i in range(n_in, 0, -1):\n",
    "        cols.append(df.shift(i))\n",
    "        names += [('var%d(t-%d)' % (j+n_in, i)) for j in range(n_vars)]\n",
    "    # forecast sequence (t, t+1, ... t+n)\n",
    "    for i in range(0, n_out):\n",
    "        cols.append(df.shift(-i))\n",
    "        if i == 0:\n",
    "            names += [('var%d(t)' % (j+n_in)) for j in range(n_vars)]\n",
    "        else:\n",
    "            names += [('var%d(t+%d)' % (j+n_in, i)) for j in range(n_vars)]\n",
    "    # put it all together\n",
    "    agg = pd.concat(cols, axis=1)\n",
    "    agg.columns = names\n",
    "    # drop rows with NaN values\n",
    "    if dropnan:\n",
    "        agg.dropna(inplace=True)\n",
    "    return agg"
   ]
  },
  {
   "cell_type": "code",
   "execution_count": 40,
   "metadata": {},
   "outputs": [],
   "source": [
    "values = data[['Weighted_Price'] + ['Volume_(BTC)'] + ['Volume_(Currency)']].values\n",
    "values = values.astype('float32')"
   ]
  },
  {
   "cell_type": "code",
   "execution_count": 41,
   "metadata": {},
   "outputs": [
    {
     "data": {
      "text/html": [
       "<div>\n",
       "<style scoped>\n",
       "    .dataframe tbody tr th:only-of-type {\n",
       "        vertical-align: middle;\n",
       "    }\n",
       "\n",
       "    .dataframe tbody tr th {\n",
       "        vertical-align: top;\n",
       "    }\n",
       "\n",
       "    .dataframe thead th {\n",
       "        text-align: right;\n",
       "    }\n",
       "</style>\n",
       "<table border=\"1\" class=\"dataframe\">\n",
       "  <thead>\n",
       "    <tr style=\"text-align: right;\">\n",
       "      <th></th>\n",
       "      <th>var1(t-1)</th>\n",
       "      <th>var2(t-1)</th>\n",
       "      <th>var3(t-1)</th>\n",
       "      <th>var1(t)</th>\n",
       "      <th>var2(t)</th>\n",
       "      <th>var3(t)</th>\n",
       "    </tr>\n",
       "  </thead>\n",
       "  <tbody>\n",
       "    <tr>\n",
       "      <th>1</th>\n",
       "      <td>0.002529</td>\n",
       "      <td>0.000974</td>\n",
       "      <td>0.000045</td>\n",
       "      <td>0.002529</td>\n",
       "      <td>0.000163</td>\n",
       "      <td>0.000007</td>\n",
       "    </tr>\n",
       "    <tr>\n",
       "      <th>2</th>\n",
       "      <td>0.002529</td>\n",
       "      <td>0.000163</td>\n",
       "      <td>0.000007</td>\n",
       "      <td>0.002528</td>\n",
       "      <td>0.000053</td>\n",
       "      <td>0.000002</td>\n",
       "    </tr>\n",
       "    <tr>\n",
       "      <th>3</th>\n",
       "      <td>0.002528</td>\n",
       "      <td>0.000053</td>\n",
       "      <td>0.000002</td>\n",
       "      <td>0.002528</td>\n",
       "      <td>0.000338</td>\n",
       "      <td>0.000015</td>\n",
       "    </tr>\n",
       "    <tr>\n",
       "      <th>4</th>\n",
       "      <td>0.002528</td>\n",
       "      <td>0.000338</td>\n",
       "      <td>0.000015</td>\n",
       "      <td>0.002512</td>\n",
       "      <td>0.005027</td>\n",
       "      <td>0.000230</td>\n",
       "    </tr>\n",
       "    <tr>\n",
       "      <th>5</th>\n",
       "      <td>0.002512</td>\n",
       "      <td>0.005027</td>\n",
       "      <td>0.000230</td>\n",
       "      <td>0.002508</td>\n",
       "      <td>0.003181</td>\n",
       "      <td>0.000146</td>\n",
       "    </tr>\n",
       "  </tbody>\n",
       "</table>\n",
       "</div>"
      ],
      "text/plain": [
       "   var1(t-1)  var2(t-1)  var3(t-1)   var1(t)   var2(t)   var3(t)\n",
       "1   0.002529   0.000974   0.000045  0.002529  0.000163  0.000007\n",
       "2   0.002529   0.000163   0.000007  0.002528  0.000053  0.000002\n",
       "3   0.002528   0.000053   0.000002  0.002528  0.000338  0.000015\n",
       "4   0.002528   0.000338   0.000015  0.002512  0.005027  0.000230\n",
       "5   0.002512   0.005027   0.000230  0.002508  0.003181  0.000146"
      ]
     },
     "execution_count": 41,
     "metadata": {},
     "output_type": "execute_result"
    }
   ],
   "source": [
    "scaler = MinMaxScaler(feature_range=(0, 1))\n",
    "scaled = scaler.fit_transform(values)\n",
    "reframed = series_to_supervised(scaled, 1, 1)\n",
    "reframed.head()"
   ]
  },
  {
   "cell_type": "code",
   "execution_count": 42,
   "metadata": {},
   "outputs": [
    {
     "name": "stdout",
     "output_type": "stream",
     "text": [
      "   var1(t-1)  var2(t-1)  var3(t-1)   var1(t)\n",
      "1   0.002529   0.000974   0.000045  0.002529\n",
      "2   0.002529   0.000163   0.000007  0.002528\n",
      "3   0.002528   0.000053   0.000002  0.002528\n",
      "4   0.002528   0.000338   0.000015  0.002512\n",
      "5   0.002512   0.005027   0.000230  0.002508\n"
     ]
    }
   ],
   "source": [
    "reframed.drop(reframed.columns[[4, 5]], axis = 1, inplace=True)\n",
    "print(reframed.head())"
   ]
  },
  {
   "cell_type": "code",
   "execution_count": 43,
   "metadata": {},
   "outputs": [
    {
     "name": "stdout",
     "output_type": "stream",
     "text": [
      "(384998, 1, 3) (384998,) (384998, 1, 3) (165000,)\n"
     ]
    }
   ],
   "source": [
    "values = reframed.values\n",
    "n_train_hours = int(len(values) * 0.7)\n",
    "train = values[:n_train_hours, :]\n",
    "test = values[n_train_hours:, :]\n",
    "# split into input and outputs\n",
    "train_X, train_y = train[:, :-1], train[:, -1]\n",
    "test_X, test_y = test[:, :-1], test[:, -1]\n",
    "# reshape input to 3D [smpls, tsteps, features]\n",
    "train_X = train_X.reshape((train_X.shape[0], 1, train_X.shape[1]))\n",
    "test_X = test_X.reshape((test_X.shape[0], 1, test_X.shape[1]))\n",
    "print(train_X.shape, train_y.shape, train_X.shape, test_y.shape)"
   ]
  },
  {
   "cell_type": "code",
   "execution_count": 44,
   "metadata": {},
   "outputs": [],
   "source": [
    "multi_model = Sequential()\n",
    "multi_model.add(LSTM(100, input_shape=(train_X.shape[1], train_X.shape[2])))\n",
    "multi_model.add(Dense(3))\n",
    "multi_model.add(Dense(1))\n",
    "multi_model.compile(loss='mae', optimizer='adam')\n",
    "multi_history = multi_model.fit(train_X, train_y, epochs=325, batch_size=600, validation_data=(test_X, test_y), verbose=0, shuffle=False)"
   ]
  },
  {
   "cell_type": "code",
   "execution_count": 45,
   "metadata": {},
   "outputs": [
    {
     "data": {
      "image/png": "[encoded data removed]",
      "text/plain": [
       "<Figure size 432x288 with 1 Axes>"
      ]
     },
     "metadata": {},
     "output_type": "display_data"
    }
   ],
   "source": [
    "pyplot.plot(multi_history.history['loss'], label='multi_train')\n",
    "pyplot.plot(multi_history.history['val_loss'], label='multi_test')\n",
    "pyplot.legend()\n",
    "pyplot.show()"
   ]
  },
  {
   "cell_type": "code",
   "execution_count": 46,
   "metadata": {},
   "outputs": [],
   "source": [
    "yhat = multi_model.predict(test_X)"
   ]
  },
  {
   "cell_type": "code",
   "execution_count": 47,
   "metadata": {},
   "outputs": [],
   "source": [
    "test_X = test_X.reshape((test_X.shape[0], test_X.shape[2]))\n",
    "# invert scaling for forecast\n",
    "inv_yhat = concatenate((yhat, test_X[:, 1:]), axis=1)\n",
    "inv_yhat = scaler.inverse_transform(inv_yhat)\n",
    "inv_yhat = inv_yhat[:,0]\n",
    "# invert scaling for actual\n",
    "test_y = test_y.reshape((len(test_y), 1))\n",
    "inv_y = concatenate((test_y, test_X[:, 1:]), axis=1)\n",
    "inv_y = scaler.inverse_transform(inv_y)\n",
    "inv_y = inv_y[:, 0]"
   ]
  },
  {
   "cell_type": "code",
   "execution_count": 48,
   "metadata": {},
   "outputs": [
    {
     "name": "stdout",
     "output_type": "stream",
     "text": [
      "Test RMSE: 1035.658\n"
     ]
    }
   ],
   "source": [
    "rmse = sqrt(mean_squared_error(inv_y, inv_yhat))\n",
    "print('Test RMSE: %.3f' % rmse)"
   ]
  },
  {
   "cell_type": "code",
   "execution_count": 49,
   "metadata": {},
   "outputs": [
    {
     "data": {
      "text/plain": [
       "'file:///home/aaliaan/temp-plot.html'"
      ]
     },
     "execution_count": 49,
     "metadata": {},
     "output_type": "execute_result"
    }
   ],
   "source": [
    "actual_chart = go.Scatter(x=predictDates, y=inv_y, name= 'Actual Price')\n",
    "multi_predict_chart = go.Scatter(x=predictDates, y=inv_yhat, name= 'Multi Predict Price')\n",
    "# predict_chart = go.Scatter(x=predictDates, y=yhat_reshape, name= 'Predict Price')\n",
    "py.plot([multi_predict_chart, actual_chart])"
   ]
  },
  {
   "cell_type": "code",
   "execution_count": null,
   "metadata": {},
   "outputs": [],
   "source": [
    ""
   ]
  }
 ],
 "metadata": {
  "kernelspec": {
   "display_name": "Python 3",
   "language": "python",
   "name": "python3"
  },
  "language_info": {
   "codemirror_mode": {
    "name": "ipython",
    "version": 3.0
   },
   "file_extension": ".py",
   "mimetype": "text/x-python",
   "name": "python",
   "nbconvert_exporter": "python",
   "pygments_lexer": "ipython3",
   "version": "3.6.5"
  }
 },
 "nbformat": 4,
 "nbformat_minor": 0
}