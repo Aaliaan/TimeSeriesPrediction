{
 "cells": [
  {
   "cell_type": "code",
   "execution_count": 12,
   "metadata": {
    "collapsed": true
   },
   "outputs": [],
   "source": [
    "import numpy as np\n",
    "import pandas as pd\n",
    "import urllib.request, json\n",
    "from pandas.io.json import json_normalize\n",
    "import ijson\n",
    "from pandas.io.json import json_normalize"
   ]
  },
  {
   "cell_type": "code",
   "execution_count": 13,
   "metadata": {},
   "outputs": [],
   "source": [
    "with urllib.request.urlopen(\"https://min-api.cryptocompare.com/data/histominute?fsym=BTC&tsym=USD&limit=500000\") as url:\n",
    "    data = json.loads(url.read().decode())\n",
    "# 1533876900\n",
    "# 1533996840"
   ]
  },
  {
   "cell_type": "code",
   "execution_count": 17,
   "metadata": {},
   "outputs": [
    {
     "data": {
      "text/html": [
       "<div>\n",
       "<style scoped>\n",
       "    .dataframe tbody tr th:only-of-type {\n",
       "        vertical-align: middle;\n",
       "    }\n",
       "\n",
       "    .dataframe tbody tr th {\n",
       "        vertical-align: top;\n",
       "    }\n",
       "\n",
       "    .dataframe thead th {\n",
       "        text-align: right;\n",
       "    }\n",
       "</style>\n",
       "<table border=\"1\" class=\"dataframe\">\n",
       "  <thead>\n",
       "    <tr style=\"text-align: right;\">\n",
       "      <th></th>\n",
       "      <th>close</th>\n",
       "      <th>high</th>\n",
       "      <th>low</th>\n",
       "      <th>open</th>\n",
       "      <th>time</th>\n",
       "      <th>volumefrom</th>\n",
       "      <th>volumeto</th>\n",
       "    </tr>\n",
       "  </thead>\n",
       "  <tbody>\n",
       "    <tr>\n",
       "      <th>0</th>\n",
       "      <td>6418.04</td>\n",
       "      <td>6420.64</td>\n",
       "      <td>6417.58</td>\n",
       "      <td>6418.42</td>\n",
       "      <td>1533878940</td>\n",
       "      <td>24.27</td>\n",
       "      <td>156750.26</td>\n",
       "    </tr>\n",
       "    <tr>\n",
       "      <th>1</th>\n",
       "      <td>6411.72</td>\n",
       "      <td>6418.09</td>\n",
       "      <td>6411.72</td>\n",
       "      <td>6418.04</td>\n",
       "      <td>1533879000</td>\n",
       "      <td>129.83</td>\n",
       "      <td>833046.81</td>\n",
       "    </tr>\n",
       "    <tr>\n",
       "      <th>2</th>\n",
       "      <td>6410.22</td>\n",
       "      <td>6411.92</td>\n",
       "      <td>6410.22</td>\n",
       "      <td>6411.71</td>\n",
       "      <td>1533879060</td>\n",
       "      <td>43.01</td>\n",
       "      <td>276463.85</td>\n",
       "    </tr>\n",
       "  </tbody>\n",
       "</table>\n",
       "</div>"
      ],
      "text/plain": [
       "<div>\n",
       "<style scoped>\n",
       "    .dataframe tbody tr th:only-of-type {\n",
       "        vertical-align: middle;\n",
       "    }\n",
       "\n",
       "    .dataframe tbody tr th {\n",
       "        vertical-align: top;\n",
       "    }\n",
       "\n",
       "    .dataframe thead th {\n",
       "        text-align: right;\n",
       "    }\n",
       "</style>\n",
       "<table border=\"1\" class=\"dataframe\">\n",
       "  <thead>\n",
       "    <tr style=\"text-align: right;\">\n",
       "      <th></th>\n",
       "      <th>close</th>\n",
       "      <th>high</th>\n",
       "      <th>low</th>\n",
       "      <th>open</th>\n",
       "      <th>time</th>\n",
       "      <th>volumefrom</th>\n",
       "      <th>volumeto</th>\n",
       "    </tr>\n",
       "  </thead>\n",
       "  <tbody>\n",
       "    <tr>\n",
       "      <th>0</th>\n",
       "      <td>6418.04</td>\n",
       "      <td>6420.64</td>\n",
       "      <td>6417.58</td>\n",
       "      <td>6418.42</td>\n",
       "      <td>1533878940</td>\n",
       "      <td>24.27</td>\n",
       "      <td>156750.26</td>\n",
       "    </tr>\n",
       "    <tr>\n",
       "      <th>1</th>\n",
       "      <td>6411.72</td>\n",
       "      <td>6418.09</td>\n",
       "      <td>6411.72</td>\n",
       "      <td>6418.04</td>\n",
       "      <td>1533879000</td>\n",
       "      <td>129.83</td>\n",
       "      <td>833046.81</td>\n",
       "    </tr>\n",
       "    <tr>\n",
       "      <th>2</th>\n",
       "      <td>6410.22</td>\n",
       "      <td>6411.92</td>\n",
       "      <td>6410.22</td>\n",
       "      <td>6411.71</td>\n",
       "      <td>1533879060</td>\n",
       "      <td>43.01</td>\n",
       "      <td>276463.85</td>\n",
       "    </tr>\n",
       "  </tbody>\n",
       "</table>\n",
       "</div>"
      ]
     },
     "execution_count": 17,
     "metadata": {},
     "output_type": "execute_result"
    }
   ],
   "source": [
    "with urllib.request.urlopen(\"https://min-api.cryptocompare.com/data/histominute?fsym=BTC&tsym=USD&limit=500000\") as url:\n",
    "    d = json.load(url)\n",
    "\n",
    "BTCUSD = json_normalize(d['Data'])\n",
    "BTCUSD.head(3)"
   ]
  },
  {
   "cell_type": "code",
   "execution_count": 20,
   "metadata": {},
   "outputs": [
    {
     "data": {
      "text/plain": [
       "pandas.core.frame.DataFrame"
      ]
     },
     "execution_count": 20,
     "metadata": {},
     "output_type": "execute_result"
    }
   ],
   "source": [
    "type(BTCUSD)"
   ]
  },
  {
   "cell_type": "code",
   "execution_count": 23,
   "metadata": {},
   "outputs": [],
   "source": [
    "BTCUSD.set_index('time', inplace=True)"
   ]
  },
  {
   "cell_type": "code",
   "execution_count": 25,
   "metadata": {
    "collapsed": false
   },
   "outputs": [
    {
     "data": {
      "text/html": [
       "<div>\n",
       "<style scoped>\n",
       "    .dataframe tbody tr th:only-of-type {\n",
       "        vertical-align: middle;\n",
       "    }\n",
       "\n",
       "    .dataframe tbody tr th {\n",
       "        vertical-align: top;\n",
       "    }\n",
       "\n",
       "    .dataframe thead th {\n",
       "        text-align: right;\n",
       "    }\n",
       "</style>\n",
       "<table border=\"1\" class=\"dataframe\">\n",
       "  <thead>\n",
       "    <tr style=\"text-align: right;\">\n",
       "      <th></th>\n",
       "      <th>close</th>\n",
       "      <th>high</th>\n",
       "      <th>low</th>\n",
       "      <th>open</th>\n",
       "      <th>volumefrom</th>\n",
       "      <th>volumeto</th>\n",
       "    </tr>\n",
       "    <tr>\n",
       "      <th>time</th>\n",
       "      <th></th>\n",
       "      <th></th>\n",
       "      <th></th>\n",
       "      <th></th>\n",
       "      <th></th>\n",
       "      <th></th>\n",
       "    </tr>\n",
       "  </thead>\n",
       "  <tbody>\n",
       "    <tr>\n",
       "      <th>1533878940</th>\n",
       "      <td>6418.04</td>\n",
       "      <td>6420.64</td>\n",
       "      <td>6417.58</td>\n",
       "      <td>6418.42</td>\n",
       "      <td>24.27</td>\n",
       "      <td>156750.26</td>\n",
       "    </tr>\n",
       "    <tr>\n",
       "      <th>1533879000</th>\n",
       "      <td>6411.72</td>\n",
       "      <td>6418.09</td>\n",
       "      <td>6411.72</td>\n",
       "      <td>6418.04</td>\n",
       "      <td>129.83</td>\n",
       "      <td>833046.81</td>\n",
       "    </tr>\n",
       "    <tr>\n",
       "      <th>1533879060</th>\n",
       "      <td>6410.22</td>\n",
       "      <td>6411.92</td>\n",
       "      <td>6410.22</td>\n",
       "      <td>6411.71</td>\n",
       "      <td>43.01</td>\n",
       "      <td>276463.85</td>\n",
       "    </tr>\n",
       "  </tbody>\n",
       "</table>\n",
       "</div>"
      ],
      "text/plain": [
       "<div>\n",
       "<style scoped>\n",
       "    .dataframe tbody tr th:only-of-type {\n",
       "        vertical-align: middle;\n",
       "    }\n",
       "\n",
       "    .dataframe tbody tr th {\n",
       "        vertical-align: top;\n",
       "    }\n",
       "\n",
       "    .dataframe thead th {\n",
       "        text-align: right;\n",
       "    }\n",
       "</style>\n",
       "<table border=\"1\" class=\"dataframe\">\n",
       "  <thead>\n",
       "    <tr style=\"text-align: right;\">\n",
       "      <th></th>\n",
       "      <th>close</th>\n",
       "      <th>high</th>\n",
       "      <th>low</th>\n",
       "      <th>open</th>\n",
       "      <th>volumefrom</th>\n",
       "      <th>volumeto</th>\n",
       "    </tr>\n",
       "    <tr>\n",
       "      <th>time</th>\n",
       "      <th></th>\n",
       "      <th></th>\n",
       "      <th></th>\n",
       "      <th></th>\n",
       "      <th></th>\n",
       "      <th></th>\n",
       "    </tr>\n",
       "  </thead>\n",
       "  <tbody>\n",
       "    <tr>\n",
       "      <th>1533878940</th>\n",
       "      <td>6418.04</td>\n",
       "      <td>6420.64</td>\n",
       "      <td>6417.58</td>\n",
       "      <td>6418.42</td>\n",
       "      <td>24.27</td>\n",
       "      <td>156750.26</td>\n",
       "    </tr>\n",
       "    <tr>\n",
       "      <th>1533879000</th>\n",
       "      <td>6411.72</td>\n",
       "      <td>6418.09</td>\n",
       "      <td>6411.72</td>\n",
       "      <td>6418.04</td>\n",
       "      <td>129.83</td>\n",
       "      <td>833046.81</td>\n",
       "    </tr>\n",
       "    <tr>\n",
       "      <th>1533879060</th>\n",
       "      <td>6410.22</td>\n",
       "      <td>6411.92</td>\n",
       "      <td>6410.22</td>\n",
       "      <td>6411.71</td>\n",
       "      <td>43.01</td>\n",
       "      <td>276463.85</td>\n",
       "    </tr>\n",
       "  </tbody>\n",
       "</table>\n",
       "</div>"
      ]
     },
     "execution_count": 25,
     "metadata": {},
     "output_type": "execute_result"
    }
   ],
   "source": [
    "BTCUSD.head(3)"
   ]
  },
  {
   "cell_type": "code",
   "execution_count": 26,
   "metadata": {},
   "outputs": [
    {
     "data": {
      "text/plain": [
       "(2001, 6)"
      ]
     },
     "execution_count": 26,
     "metadata": {},
     "output_type": "execute_result"
    }
   ],
   "source": [
    "BTCUSD.shape"
   ]
  },
  {
   "cell_type": "code",
   "execution_count": null,
   "metadata": {},
   "outputs": [],
   "source": []
  }
 ],
 "metadata": {
  "kernelspec": {
   "display_name": "Python 2",
   "language": "python",
   "name": "python2"
  },
  "language_info": {
   "codemirror_mode": {
    "name": "ipython",
    "version": 2
   },
   "file_extension": ".py",
   "mimetype": "text/x-python",
   "name": "python",
   "nbconvert_exporter": "python",
   "pygments_lexer": "ipython2",
   "version": "2.7.6"
  }
 },
 "nbformat": 4,
 "nbformat_minor": 0
}
